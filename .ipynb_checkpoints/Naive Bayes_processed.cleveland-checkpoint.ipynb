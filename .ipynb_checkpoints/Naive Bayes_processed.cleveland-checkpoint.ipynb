{
 "cells": [
  {
   "cell_type": "code",
   "execution_count": 45,
   "metadata": {},
   "outputs": [],
   "source": [
    "import numpy as np\n",
    "from numpy import genfromtxt\n",
    "from sklearn import metrics"
   ]
  },
  {
   "cell_type": "code",
   "execution_count": 46,
   "metadata": {},
   "outputs": [],
   "source": [
    "raw_data = genfromtxt('processed_cleveland.csv', delimiter=',')"
   ]
  },
  {
   "cell_type": "code",
   "execution_count": 47,
   "metadata": {},
   "outputs": [],
   "source": [
    "from sklearn.preprocessing import Imputer\n",
    "imp = Imputer(missing_values='NaN', strategy='most_frequent', axis=0)\n",
    "data=imp.fit_transform(raw_data)"
   ]
  },
  {
   "cell_type": "code",
   "execution_count": 48,
   "metadata": {},
   "outputs": [],
   "source": [
    "X = data[:,:-1]\n",
    "Y = data[:,-1]"
   ]
  },
  {
   "cell_type": "code",
   "execution_count": 246,
   "metadata": {},
   "outputs": [
    {
     "data": {
      "text/plain": [
       "GaussianNB(priors=None)"
      ]
     },
     "execution_count": 246,
     "metadata": {},
     "output_type": "execute_result"
    }
   ],
   "source": [
    "from sklearn.naive_bayes import GaussianNB\n",
    "clf = GaussianNB()\n",
    "clf.fit(X,Y)"
   ]
  },
  {
   "cell_type": "code",
   "execution_count": 247,
   "metadata": {},
   "outputs": [
    {
     "name": "stdout",
     "output_type": "stream",
     "text": [
      "Number of mislabeled points out of a total 303 points : 113\n"
     ]
    }
   ],
   "source": [
    "y_pred=clf.predict(X)\n",
    "print(\"Number of mislabeled points out of a total %d points : %d\" % (X.shape[0],(Y != y_pred).sum()))"
   ]
  },
  {
   "cell_type": "code",
   "execution_count": 248,
   "metadata": {},
   "outputs": [
    {
     "name": "stdout",
     "output_type": "stream",
     "text": [
      "             precision    recall  f1-score   support\n",
      "\n",
      "        0.0       0.86      0.85      0.86       164\n",
      "        1.0       0.35      0.35      0.35        55\n",
      "        2.0       0.38      0.36      0.37        36\n",
      "        3.0       0.39      0.43      0.41        35\n",
      "        4.0       0.21      0.23      0.22        13\n",
      "\n",
      "avg / total       0.63      0.63      0.63       303\n",
      "\n",
      "[[140  15   6   1   2]\n",
      " [ 19  19   7   9   1]\n",
      " [  1   9  13   8   5]\n",
      " [  2   7   8  15   3]\n",
      " [  0   5   0   5   3]]\n"
     ]
    }
   ],
   "source": [
    "print(metrics.classification_report(Y, y_pred))\n",
    "print(metrics.confusion_matrix(Y, y_pred))"
   ]
  },
  {
   "cell_type": "code",
   "execution_count": null,
   "metadata": {},
   "outputs": [],
   "source": []
  },
  {
   "cell_type": "code",
   "execution_count": 221,
   "metadata": {},
   "outputs": [
    {
     "name": "stdout",
     "output_type": "stream",
     "text": [
      "[0.54125413 0.18151815 0.11881188 0.11551155 0.04290429]\n",
      "[164.  55.  36.  35.  13.]\n"
     ]
    }
   ],
   "source": [
    "print(clf.class_prior_)\n",
    "print(clf.class_count_)"
   ]
  },
  {
   "cell_type": "code",
   "execution_count": 193,
   "metadata": {},
   "outputs": [
    {
     "name": "stdout",
     "output_type": "stream",
     "text": [
      "[[5.25853659e+01 5.60975610e-01 2.79268293e+00 1.29250000e+02\n",
      "  2.42640244e+02 1.40243902e-01 8.35365854e-01 1.58378049e+02\n",
      "  1.40243902e-01 5.86585366e-01 1.40853659e+00 2.68292683e-01\n",
      "  3.79268293e+00]\n",
      " [5.53818182e+01 8.36363636e-01 3.34545455e+00 1.33254545e+02\n",
      "  2.49109091e+02 7.27272727e-02 1.16363636e+00 1.45927273e+02\n",
      "  4.54545455e-01 1.00545455e+00 1.63636364e+00 7.27272727e-01\n",
      "  5.34545455e+00]\n",
      " [5.80277778e+01 8.05555556e-01 3.75000000e+00 1.34194444e+02\n",
      "  2.59277778e+02 2.50000000e-01 9.16666667e-01 1.35583333e+02\n",
      "  6.11111111e-01 1.78055556e+00 1.88888889e+00 1.22222222e+00\n",
      "  5.94444444e+00]\n",
      " [5.60000000e+01 8.00000000e-01 3.77142857e+00 1.35457143e+02\n",
      "  2.46457143e+02 2.28571429e-01 1.28571429e+00 1.32057143e+02\n",
      "  6.57142857e-01 1.96285714e+00 1.97142857e+00 1.45714286e+00\n",
      "  6.28571429e+00]\n",
      " [5.96923077e+01 8.46153846e-01 3.69230769e+00 1.38769231e+02\n",
      "  2.53384615e+02 7.69230769e-02 1.61538462e+00 1.40615385e+02\n",
      "  4.61538462e-01 2.36153846e+00 2.07692308e+00 1.69230769e+00\n",
      "  6.23076923e+00]]\n"
     ]
    }
   ],
   "source": [
    "theta=clf.theta_\n",
    "print(theta)"
   ]
  },
  {
   "cell_type": "code",
   "execution_count": 169,
   "metadata": {},
   "outputs": [
    {
     "name": "stdout",
     "output_type": "stream",
     "text": [
      "[[8.99256422e+01 2.46284647e-01 8.35071084e-01 2.60992381e+02\n",
      "  2.84018155e+03 1.20578222e-01 9.66800709e-01 3.66357082e+02\n",
      "  1.20578222e-01 6.07383695e-01 3.51393213e-01 3.91436342e-01\n",
      "  2.43263206e+00]\n",
      " [6.28542175e+01 1.36862176e-01 9.89754738e-01 3.19098846e+02\n",
      "  1.63046083e+03 6.74406885e-02 9.73225812e-01 5.12285623e+02\n",
      "  2.47936556e-01 9.68882011e-01 3.04134903e-01 7.43804325e-01\n",
      "  3.71702747e+00]\n",
      " [5.06936755e+01 1.56638474e-01 4.09724894e-01 3.11378861e+02\n",
      "  2.80831173e+03 1.87502672e-01 9.65280450e-01 4.23187503e+02\n",
      "  2.37656993e-01 1.30545792e+00 2.65434771e-01 8.95064400e-01\n",
      "  2.60802736e+00]\n",
      " [5.88000027e+01 1.60002672e-01 2.90614917e-01 4.55791023e+02\n",
      "  2.60064817e+03 1.76329203e-01 8.89798590e-01 5.00511023e+02\n",
      "  2.25308794e-01 2.25033737e+00 3.13472060e-01 9.91023080e-01\n",
      "  2.26122716e+00]\n",
      " [8.19053281e+01 1.30180187e-01 6.74558885e-01 2.72639056e+02\n",
      "  4.05608284e+03 7.10085892e-02 5.44381370e-01 3.64852074e+02\n",
      "  2.48523382e-01 1.72544646e+00 2.24854743e-01 1.44378965e+00\n",
      "  2.02367131e+00]]\n"
     ]
    }
   ],
   "source": [
    "print(clf.sigma_)"
   ]
  },
  {
   "cell_type": "code",
   "execution_count": 147,
   "metadata": {},
   "outputs": [],
   "source": [
    "from sklearn.preprocessing import OneHotEncoder\n",
    "enc = OneHotEncoder(categorical_features=np.array([1,2,5,6,8,10,11,12]))\n",
    "X=enc.fit_transform(X).toarray()"
   ]
  },
  {
   "cell_type": "code",
   "execution_count": 148,
   "metadata": {},
   "outputs": [
    {
     "data": {
      "text/plain": [
       "BernoulliNB(alpha=1.0, binarize=0.0, class_prior=None, fit_prior=True)"
      ]
     },
     "execution_count": 148,
     "metadata": {},
     "output_type": "execute_result"
    }
   ],
   "source": [
    "from sklearn.naive_bayes import BernoulliNB\n",
    "clf = BernoulliNB()\n",
    "clf.fit(X,Y)"
   ]
  },
  {
   "cell_type": "code",
   "execution_count": 149,
   "metadata": {},
   "outputs": [
    {
     "name": "stdout",
     "output_type": "stream",
     "text": [
      "Number of mislabeled points out of a total 303 points : 115\n"
     ]
    }
   ],
   "source": [
    "y_pred=clf.predict(X)\n",
    "print(\"Number of mislabeled points out of a total %d points : %d\"\n",
    "      % (X.shape[0],(Y != y_pred).sum()))"
   ]
  },
  {
   "cell_type": "code",
   "execution_count": 92,
   "metadata": {},
   "outputs": [
    {
     "data": {
      "text/plain": [
       "SVC(C=1.0, cache_size=200, class_weight=None, coef0=0.0,\n",
       "  decision_function_shape='ovr', degree=3, gamma='auto', kernel='rbf',\n",
       "  max_iter=-1, probability=False, random_state=None, shrinking=True,\n",
       "  tol=0.001, verbose=False)"
      ]
     },
     "execution_count": 92,
     "metadata": {},
     "output_type": "execute_result"
    }
   ],
   "source": [
    "from sklearn.svm import SVC\n",
    "clf = SVC()\n",
    "clf.fit(X[:-50,:],Y[:-50])\n"
   ]
  },
  {
   "cell_type": "code",
   "execution_count": 93,
   "metadata": {},
   "outputs": [
    {
     "name": "stdout",
     "output_type": "stream",
     "text": [
      "Number of mislabeled points out of a total 50 points : 26\n"
     ]
    }
   ],
   "source": [
    "y_pred=clf.predict(X[-50:,:])\n",
    "print(\"Number of mislabeled points out of a total %d points : %d\"\n",
    "      % (X[-50:,:].shape[0],(Y[-50:] !=y_pred).sum()))"
   ]
  },
  {
   "cell_type": "code",
   "execution_count": 94,
   "metadata": {},
   "outputs": [
    {
     "name": "stdout",
     "output_type": "stream",
     "text": [
      "             precision    recall  f1-score   support\n",
      "\n",
      "        0.0       0.48      1.00      0.65        24\n",
      "        1.0       0.00      0.00      0.00        10\n",
      "        2.0       0.00      0.00      0.00        10\n",
      "        3.0       0.00      0.00      0.00         4\n",
      "        4.0       0.00      0.00      0.00         2\n",
      "\n",
      "avg / total       0.23      0.48      0.31        50\n",
      "\n",
      "[[24  0  0  0  0]\n",
      " [10  0  0  0  0]\n",
      " [10  0  0  0  0]\n",
      " [ 4  0  0  0  0]\n",
      " [ 2  0  0  0  0]]\n"
     ]
    },
    {
     "name": "stderr",
     "output_type": "stream",
     "text": [
      "D:\\Programming\\Anaconda3\\envs\\tensorflow\\lib\\site-packages\\sklearn\\metrics\\classification.py:1135: UndefinedMetricWarning: Precision and F-score are ill-defined and being set to 0.0 in labels with no predicted samples.\n",
      "  'precision', 'predicted', average, warn_for)\n"
     ]
    }
   ],
   "source": [
    "print(metrics.classification_report(Y[-50:], y_pred))\n",
    "print(metrics.confusion_matrix(Y[-50:], y_pred))"
   ]
  },
  {
   "cell_type": "code",
   "execution_count": 222,
   "metadata": {},
   "outputs": [
    {
     "name": "stdout",
     "output_type": "stream",
     "text": [
      "GaussianNB(priors=None)\n",
      "             precision    recall  f1-score   support\n",
      "\n",
      "          0       1.00      1.00      1.00        50\n",
      "          1       0.94      0.94      0.94        50\n",
      "          2       0.94      0.94      0.94        50\n",
      "\n",
      "avg / total       0.96      0.96      0.96       150\n",
      "\n",
      "[[50  0  0]\n",
      " [ 0 47  3]\n",
      " [ 0  3 47]]\n"
     ]
    }
   ],
   "source": [
    "from sklearn import datasets\n",
    "from sklearn import metrics\n",
    "from sklearn.naive_bayes import GaussianNB\n",
    "# load the iris datasets\n",
    "dataset = datasets.load_iris()\n",
    "# fit a Naive Bayes model to the data\n",
    "model = GaussianNB()\n",
    "model.fit(dataset.data, dataset.target)\n",
    "print(model)\n",
    "# make predictions\n",
    "expected = dataset.target\n",
    "predicted = model.predict(dataset.data)\n",
    "# summarize the fit of the model\n",
    "print(metrics.classification_report(expected, predicted))\n",
    "print(metrics.confusion_matrix(expected, predicted))"
   ]
  },
  {
   "cell_type": "code",
   "execution_count": 95,
   "metadata": {},
   "outputs": [
    {
     "data": {
      "text/plain": [
       "DecisionTreeClassifier(class_weight=None, criterion='gini', max_depth=None,\n",
       "            max_features=None, max_leaf_nodes=None,\n",
       "            min_impurity_decrease=0.0, min_impurity_split=None,\n",
       "            min_samples_leaf=1, min_samples_split=2,\n",
       "            min_weight_fraction_leaf=0.0, presort=False, random_state=0,\n",
       "            splitter='best')"
      ]
     },
     "execution_count": 95,
     "metadata": {},
     "output_type": "execute_result"
    }
   ],
   "source": [
    "from sklearn.tree import DecisionTreeClassifier\n",
    "clf = DecisionTreeClassifier(random_state=0)\n",
    "clf.fit(X[:-50,:],Y[:-50])"
   ]
  },
  {
   "cell_type": "code",
   "execution_count": 96,
   "metadata": {},
   "outputs": [
    {
     "name": "stdout",
     "output_type": "stream",
     "text": [
      "Number of mislabeled points out of a total 50 points : 27\n"
     ]
    }
   ],
   "source": [
    "y_pred=clf.predict(X[-50:,:])\n",
    "print(\"Number of mislabeled points out of a total %d points : %d\"\n",
    "      % (X[-50:,:].shape[0],(Y[-50:] !=y_pred).sum()))"
   ]
  },
  {
   "cell_type": "code",
   "execution_count": 97,
   "metadata": {},
   "outputs": [
    {
     "name": "stdout",
     "output_type": "stream",
     "text": [
      "             precision    recall  f1-score   support\n",
      "\n",
      "        0.0       0.59      0.83      0.69        24\n",
      "        1.0       0.00      0.00      0.00        10\n",
      "        2.0       0.50      0.30      0.37        10\n",
      "        3.0       0.00      0.00      0.00         4\n",
      "        4.0       0.00      0.00      0.00         2\n",
      "\n",
      "avg / total       0.38      0.46      0.41        50\n",
      "\n",
      "[[20  3  0  0  1]\n",
      " [ 9  0  1  0  0]\n",
      " [ 3  0  3  4  0]\n",
      " [ 2  1  1  0  0]\n",
      " [ 0  0  1  1  0]]\n"
     ]
    }
   ],
   "source": [
    "print(metrics.classification_report(Y[-50:], y_pred))\n",
    "print(metrics.confusion_matrix(Y[-50:], y_pred))"
   ]
  },
  {
   "cell_type": "code",
   "execution_count": null,
   "metadata": {},
   "outputs": [],
   "source": []
  },
  {
   "cell_type": "code",
   "execution_count": null,
   "metadata": {},
   "outputs": [],
   "source": []
  }
 ],
 "metadata": {
  "kernelspec": {
   "display_name": "Python 3",
   "language": "python",
   "name": "python3"
  },
  "language_info": {
   "codemirror_mode": {
    "name": "ipython",
    "version": 3
   },
   "file_extension": ".py",
   "mimetype": "text/x-python",
   "name": "python",
   "nbconvert_exporter": "python",
   "pygments_lexer": "ipython3",
   "version": "3.6.5"
  }
 },
 "nbformat": 4,
 "nbformat_minor": 2
}
