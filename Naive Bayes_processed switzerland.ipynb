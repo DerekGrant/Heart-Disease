{
 "cells": [
  {
   "cell_type": "code",
   "execution_count": 59,
   "metadata": {},
   "outputs": [],
   "source": [
    "import numpy as np\n",
    "from numpy import genfromtxt"
   ]
  },
  {
   "cell_type": "code",
   "execution_count": 60,
   "metadata": {},
   "outputs": [],
   "source": [
    "raw_data = genfromtxt('processed_switzerland.csv', delimiter=',')"
   ]
  },
  {
   "cell_type": "code",
   "execution_count": 61,
   "metadata": {},
   "outputs": [],
   "source": [
    "raw_data=np.delete(raw_data,[5,11,12],axis=1)"
   ]
  },
  {
   "cell_type": "code",
   "execution_count": 62,
   "metadata": {},
   "outputs": [],
   "source": [
    "from sklearn.preprocessing import Imputer\n",
    "imp = Imputer(missing_values='NaN', strategy='most_frequent', axis=0)\n",
    "data=imp.fit_transform(raw_data)"
   ]
  },
  {
   "cell_type": "code",
   "execution_count": 63,
   "metadata": {},
   "outputs": [],
   "source": [
    "X = data[:,:-1]\n",
    "Y = data[:,-1]"
   ]
  },
  {
   "cell_type": "code",
   "execution_count": 42,
   "metadata": {},
   "outputs": [],
   "source": [
    "from sklearn import preprocessing\n",
    "min_max_scaler = preprocessing.MinMaxScaler()\n",
    "X = min_max_scaler.fit_transform(X)"
   ]
  },
  {
   "cell_type": "code",
   "execution_count": 85,
   "metadata": {},
   "outputs": [
    {
     "data": {
      "text/plain": [
       "GaussianNB(priors=None)"
      ]
     },
     "execution_count": 85,
     "metadata": {},
     "output_type": "execute_result"
    }
   ],
   "source": [
    "from sklearn.naive_bayes import GaussianNB\n",
    "clf = GaussianNB()\n",
    "clf.fit(X,Y)"
   ]
  },
  {
   "cell_type": "code",
   "execution_count": 86,
   "metadata": {},
   "outputs": [
    {
     "name": "stdout",
     "output_type": "stream",
     "text": [
      "Number of mislabeled points out of a total 123 points : 100\n"
     ]
    }
   ],
   "source": [
    "y_pred=clf.predict(X)\n",
    "print(\"Number of mislabeled points out of a total %d points : %d\" % (X.shape[0],(Y != y_pred).sum()))"
   ]
  },
  {
   "cell_type": "code",
   "execution_count": 87,
   "metadata": {},
   "outputs": [
    {
     "name": "stdout",
     "output_type": "stream",
     "text": [
      "             precision    recall  f1-score   support\n",
      "\n",
      "        0.0       0.24      1.00      0.38         8\n",
      "        1.0       0.60      0.12      0.21        48\n",
      "        2.0       0.00      0.00      0.00        32\n",
      "        3.0       0.44      0.13      0.21        30\n",
      "        4.0       0.07      1.00      0.13         5\n",
      "\n",
      "avg / total       0.36      0.19      0.16       123\n",
      "\n",
      "[[ 8  0  0  0  0]\n",
      " [15  6  0  3 24]\n",
      " [ 6  3  0  2 21]\n",
      " [ 5  1  0  4 20]\n",
      " [ 0  0  0  0  5]]\n"
     ]
    },
    {
     "name": "stderr",
     "output_type": "stream",
     "text": [
      "D:\\Programming\\Anaconda3\\envs\\tensorflow\\lib\\site-packages\\sklearn\\metrics\\classification.py:1135: UndefinedMetricWarning: Precision and F-score are ill-defined and being set to 0.0 in labels with no predicted samples.\n",
      "  'precision', 'predicted', average, warn_for)\n"
     ]
    }
   ],
   "source": [
    "print(metrics.classification_report(Y, y_pred))\n",
    "print(metrics.confusion_matrix(Y, y_pred))"
   ]
  },
  {
   "cell_type": "code",
   "execution_count": 88,
   "metadata": {},
   "outputs": [
    {
     "name": "stdout",
     "output_type": "stream",
     "text": [
      "[0.06504065 0.3902439  0.2601626  0.24390244 0.04065041]\n",
      "[ 8. 48. 32. 30.  5.]\n"
     ]
    }
   ],
   "source": [
    "print(clf.class_prior_)\n",
    "print(clf.class_count_)"
   ]
  },
  {
   "cell_type": "code",
   "execution_count": 89,
   "metadata": {},
   "outputs": [
    {
     "name": "stdout",
     "output_type": "stream",
     "text": [
      "[[5.46250000e+01 1.00000000e+00 3.00000000e+00 1.24375000e+02\n",
      "  0.00000000e+00 5.00000000e-01 1.36625000e+02 1.25000000e-01\n",
      "  5.37500000e-01 1.75000000e+00]\n",
      " [5.56250000e+01 8.75000000e-01 3.66666667e+00 1.27291667e+02\n",
      "  0.00000000e+00 2.70833333e-01 1.25354167e+02 4.58333333e-01\n",
      "  4.20833333e-01 1.87500000e+00]\n",
      " [5.26250000e+01 9.06250000e-01 3.75000000e+00 1.30000000e+02\n",
      "  0.00000000e+00 4.06250000e-01 1.26406250e+02 3.75000000e-01\n",
      "  7.03125000e-01 1.78125000e+00]\n",
      " [5.84333333e+01 9.66666667e-01 3.83333333e+00 1.37333333e+02\n",
      "  0.00000000e+00 4.00000000e-01 1.08200000e+02 5.66666667e-01\n",
      "  8.23333333e-01 1.86666667e+00]\n",
      " [5.20000000e+01 1.00000000e+00 4.00000000e+00 1.20000000e+02\n",
      "  0.00000000e+00 4.00000000e-01 1.09800000e+02 4.00000000e-01\n",
      "  9.60000000e-01 1.60000000e+00]]\n"
     ]
    }
   ],
   "source": [
    "theta=clf.theta_\n",
    "print(theta)"
   ]
  },
  {
   "cell_type": "code",
   "execution_count": 90,
   "metadata": {},
   "outputs": [
    {
     "name": "stdout",
     "output_type": "stream",
     "text": [
      "[[9.82343757e+01 6.63874017e-07 5.00000664e-01 6.58984376e+02\n",
      "  6.63874017e-07 5.00000664e-01 5.81984376e+02 1.09375664e-01\n",
      "  8.74844414e-01 6.87500664e-01]\n",
      " [1.02276042e+02 1.09375664e-01 5.13889553e-01 5.43706598e+02\n",
      "  6.63874017e-07 2.80816636e-01 5.00978733e+02 2.48264553e-01\n",
      "  9.25816636e-01 3.59375664e-01]\n",
      " [5.48593757e+01 8.49616014e-02 5.62500664e-01 3.39062501e+02\n",
      "  6.63874017e-07 4.28711601e-01 6.99616212e+02 2.34375664e-01\n",
      "  1.28342840e+00 2.95899101e-01]\n",
      " [5.95788896e+01 3.22228861e-02 2.05556219e-01 5.44555556e+02\n",
      "  6.63874017e-07 3.06667331e-01 6.39626667e+02 2.45556219e-01\n",
      "  1.08578955e+00 2.48889553e-01]\n",
      " [2.56000007e+01 6.63874017e-07 6.63874017e-07 5.00000007e+01\n",
      "  6.63874017e-07 2.40000664e-01 4.14560001e+02 2.40000664e-01\n",
      "  5.46400664e-01 2.40000664e-01]]\n"
     ]
    }
   ],
   "source": [
    "print(clf.sigma_)"
   ]
  },
  {
   "cell_type": "code",
   "execution_count": 46,
   "metadata": {},
   "outputs": [
    {
     "data": {
      "text/plain": [
       "BernoulliNB(alpha=1.0, binarize=0.0, class_prior=None, fit_prior=True)"
      ]
     },
     "execution_count": 46,
     "metadata": {},
     "output_type": "execute_result"
    }
   ],
   "source": [
    "from sklearn.naive_bayes import BernoulliNB\n",
    "clf = BernoulliNB()\n",
    "clf.fit(X,Y)"
   ]
  },
  {
   "cell_type": "code",
   "execution_count": 47,
   "metadata": {},
   "outputs": [
    {
     "name": "stdout",
     "output_type": "stream",
     "text": [
      "Number of mislabeled points out of a total 123 points : 74\n"
     ]
    }
   ],
   "source": [
    "y_pred=clf.predict(X)\n",
    "print(\"Number of mislabeled points out of a total %d points : %d\"\n",
    "      % (X.shape[0],(Y != y_pred).sum()))"
   ]
  },
  {
   "cell_type": "code",
   "execution_count": 48,
   "metadata": {},
   "outputs": [
    {
     "name": "stdout",
     "output_type": "stream",
     "text": [
      "             precision    recall  f1-score   support\n",
      "\n",
      "        0.0       0.00      0.00      0.00         8\n",
      "        1.0       0.41      0.83      0.55        48\n",
      "        2.0       0.45      0.16      0.23        32\n",
      "        3.0       0.31      0.13      0.19        30\n",
      "        4.0       0.00      0.00      0.00         5\n",
      "\n",
      "avg / total       0.35      0.40      0.32       123\n",
      "\n",
      "[[ 0  6  1  1  0]\n",
      " [ 1 40  3  4  0]\n",
      " [ 0 24  5  3  0]\n",
      " [ 0 25  1  4  0]\n",
      " [ 0  3  1  1  0]]\n"
     ]
    },
    {
     "name": "stderr",
     "output_type": "stream",
     "text": [
      "D:\\Programming\\Anaconda3\\envs\\tensorflow\\lib\\site-packages\\sklearn\\metrics\\classification.py:1135: UndefinedMetricWarning: Precision and F-score are ill-defined and being set to 0.0 in labels with no predicted samples.\n",
      "  'precision', 'predicted', average, warn_for)\n"
     ]
    }
   ],
   "source": [
    "print(metrics.classification_report(Y, y_pred))\n",
    "print(metrics.confusion_matrix(Y, y_pred))"
   ]
  },
  {
   "cell_type": "code",
   "execution_count": 49,
   "metadata": {},
   "outputs": [
    {
     "data": {
      "text/plain": [
       "MultinomialNB(alpha=1.0, class_prior=None, fit_prior=True)"
      ]
     },
     "execution_count": 49,
     "metadata": {},
     "output_type": "execute_result"
    }
   ],
   "source": [
    "from sklearn.naive_bayes import MultinomialNB\n",
    "clf = MultinomialNB()\n",
    "clf.fit(X,Y)"
   ]
  },
  {
   "cell_type": "code",
   "execution_count": 50,
   "metadata": {},
   "outputs": [
    {
     "name": "stdout",
     "output_type": "stream",
     "text": [
      "Number of mislabeled points out of a total 123 points : 74\n"
     ]
    }
   ],
   "source": [
    "y_pred=clf.predict(X)\n",
    "print(\"Number of mislabeled points out of a total %d points : %d\"\n",
    "      % (X.shape[0],(Y != y_pred).sum()))"
   ]
  },
  {
   "cell_type": "code",
   "execution_count": 51,
   "metadata": {},
   "outputs": [
    {
     "name": "stdout",
     "output_type": "stream",
     "text": [
      "             precision    recall  f1-score   support\n",
      "\n",
      "        0.0       0.00      0.00      0.00         8\n",
      "        1.0       0.39      1.00      0.56        48\n",
      "        2.0       1.00      0.03      0.06        32\n",
      "        3.0       0.00      0.00      0.00        30\n",
      "        4.0       0.00      0.00      0.00         5\n",
      "\n",
      "avg / total       0.41      0.40      0.24       123\n",
      "\n",
      "[[ 0  8  0  0  0]\n",
      " [ 0 48  0  0  0]\n",
      " [ 0 31  1  0  0]\n",
      " [ 0 30  0  0  0]\n",
      " [ 0  5  0  0  0]]\n"
     ]
    },
    {
     "name": "stderr",
     "output_type": "stream",
     "text": [
      "D:\\Programming\\Anaconda3\\envs\\tensorflow\\lib\\site-packages\\sklearn\\metrics\\classification.py:1135: UndefinedMetricWarning: Precision and F-score are ill-defined and being set to 0.0 in labels with no predicted samples.\n",
      "  'precision', 'predicted', average, warn_for)\n"
     ]
    }
   ],
   "source": [
    "print(metrics.classification_report(Y, y_pred))\n",
    "print(metrics.confusion_matrix(Y, y_pred))"
   ]
  },
  {
   "cell_type": "code",
   "execution_count": 81,
   "metadata": {},
   "outputs": [
    {
     "data": {
      "text/plain": [
       "SVC(C=1, cache_size=200, class_weight=None, coef0=0.0,\n",
       "  decision_function_shape='ovr', degree=3, gamma='auto', kernel='rbf',\n",
       "  max_iter=-1, probability=False, random_state=None, shrinking=True,\n",
       "  tol=0.001, verbose=False)"
      ]
     },
     "execution_count": 81,
     "metadata": {},
     "output_type": "execute_result"
    }
   ],
   "source": [
    "from sklearn.svm import SVC\n",
    "clf = SVC()\n",
    "clf.C=1\n",
    "clf.fit(X, Y)"
   ]
  },
  {
   "cell_type": "code",
   "execution_count": 82,
   "metadata": {},
   "outputs": [
    {
     "name": "stdout",
     "output_type": "stream",
     "text": [
      "Number of mislabeled points out of a total 123 points : 2\n"
     ]
    }
   ],
   "source": [
    "y_pred=clf.predict(X)\n",
    "print(\"Number of mislabeled points out of a total %d points : %d\"\n",
    "      % (X.shape[0],(Y != y_pred).sum()))"
   ]
  },
  {
   "cell_type": "code",
   "execution_count": 83,
   "metadata": {},
   "outputs": [
    {
     "name": "stdout",
     "output_type": "stream",
     "text": [
      "             precision    recall  f1-score   support\n",
      "\n",
      "        0.0       1.00      0.88      0.93         8\n",
      "        1.0       0.98      1.00      0.99        48\n",
      "        2.0       0.97      0.97      0.97        32\n",
      "        3.0       1.00      1.00      1.00        30\n",
      "        4.0       1.00      1.00      1.00         5\n",
      "\n",
      "avg / total       0.98      0.98      0.98       123\n",
      "\n",
      "[[ 7  0  1  0  0]\n",
      " [ 0 48  0  0  0]\n",
      " [ 0  1 31  0  0]\n",
      " [ 0  0  0 30  0]\n",
      " [ 0  0  0  0  5]]\n"
     ]
    }
   ],
   "source": [
    "print(metrics.classification_report(Y, y_pred))\n",
    "print(metrics.confusion_matrix(Y, y_pred))"
   ]
  },
  {
   "cell_type": "code",
   "execution_count": null,
   "metadata": {},
   "outputs": [],
   "source": []
  }
 ],
 "metadata": {
  "kernelspec": {
   "display_name": "Python 3",
   "language": "python",
   "name": "python3"
  },
  "language_info": {
   "codemirror_mode": {
    "name": "ipython",
    "version": 3
   },
   "file_extension": ".py",
   "mimetype": "text/x-python",
   "name": "python",
   "nbconvert_exporter": "python",
   "pygments_lexer": "ipython3",
   "version": "3.6.5"
  }
 },
 "nbformat": 4,
 "nbformat_minor": 2
}
